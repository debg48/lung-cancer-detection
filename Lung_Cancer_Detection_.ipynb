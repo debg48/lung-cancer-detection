{
  "cells": [
    {
      "cell_type": "markdown",
      "metadata": {
        "id": "view-in-github",
        "colab_type": "text"
      },
      "source": [
        "<a href=\"https://colab.research.google.com/github/debg48/lung-cancer-detection/blob/main/Lung_Cancer_Detection_.ipynb\" target=\"_parent\"><img src=\"https://colab.research.google.com/assets/colab-badge.svg\" alt=\"Open In Colab\"/></a>"
      ]
    },
    {
      "cell_type": "code",
      "execution_count": 1,
      "metadata": {
        "id": "roEk2A4GoyF-"
      },
      "outputs": [],
      "source": [
        "!pip install opendatasets --upgrade --quiet"
      ]
    },
    {
      "cell_type": "code",
      "execution_count": 2,
      "metadata": {
        "id": "i2LCl0cHqgD2"
      },
      "outputs": [],
      "source": [
        "dataset_url = 'https://www.kaggle.com/datasets/mohamedhanyyy/chest-ctscan-images'"
      ]
    },
    {
      "cell_type": "code",
      "execution_count": 3,
      "metadata": {
        "colab": {
          "base_uri": "https://localhost:8080/"
        },
        "id": "XIeg98JAqjiQ",
        "outputId": "83139e86-2c96-4ffb-c2a3-d2336f94151a"
      },
      "outputs": [
        {
          "output_type": "stream",
          "name": "stdout",
          "text": [
            "Skipping, found downloaded files in \"./chest-ctscan-images\" (use force=True to force download)\n"
          ]
        }
      ],
      "source": [
        "import opendatasets as od\n",
        "od.download(dataset_url)"
      ]
    },
    {
      "cell_type": "code",
      "execution_count": 4,
      "metadata": {
        "id": "59qfj2iPqs-D"
      },
      "outputs": [],
      "source": [
        "import tensorflow as tf\n",
        "import tensorflow.keras as keras\n",
        "from tensorflow.keras import layers\n",
        "from tensorflow.keras.models import Sequential\n",
        "\n",
        "from tensorflow.keras.preprocessing.image import ImageDataGenerator\n",
        "import pandas as pd\n",
        "import numpy as np"
      ]
    },
    {
      "cell_type": "code",
      "execution_count": 5,
      "metadata": {
        "colab": {
          "base_uri": "https://localhost:8080/"
        },
        "id": "J0c3SOM7tanU",
        "outputId": "b5f71533-833a-4b84-f355-5e23488a950b"
      },
      "outputs": [
        {
          "output_type": "execute_result",
          "data": {
            "text/plain": [
              "(437, 258)"
            ]
          },
          "metadata": {},
          "execution_count": 5
        }
      ],
      "source": [
        "from PIL import Image \n",
        "\n",
        "\n",
        "img = Image.open ('/content/chest-ctscan-images/Data/train/large.cell.carcinoma_left.hilum_T2_N2_M0_IIIa/000003 (3).png')\n",
        "img.size"
      ]
    },
    {
      "cell_type": "code",
      "execution_count": 8,
      "metadata": {
        "id": "7he8BrCJrwPP"
      },
      "outputs": [],
      "source": [
        "datagen=ImageDataGenerator(\n",
        "                           rescale=1./255.,\n",
        "                           validation_split=0.15,\n",
        "                           zoom_range=0.1,\n",
        "                           horizontal_flip=True,\n",
        "                           fill_mode='nearest'                      \n",
        "                        )"
      ]
    },
    {
      "cell_type": "code",
      "execution_count": 9,
      "metadata": {
        "colab": {
          "base_uri": "https://localhost:8080/"
        },
        "id": "jl1Ifywxr3C9",
        "outputId": "2166a5cf-61c1-4561-a08a-305c31b5f927"
      },
      "outputs": [
        {
          "output_type": "stream",
          "name": "stdout",
          "text": [
            "Found 522 images belonging to 4 classes.\n",
            "Found 91 images belonging to 4 classes.\n"
          ]
        }
      ],
      "source": [
        "train_generator=datagen.flow_from_directory(\n",
        "                    directory=\"/content/chest-ctscan-images/Data/train\",\n",
        "                    subset=\"training\",\n",
        "                    color_mode='rgb',\n",
        "                    class_mode='categorical',\n",
        "                    batch_size=32,\n",
        "                    shuffle=True,\n",
        "                    seed=0,\n",
        "                    target_size=(240,240)\n",
        "              )\n",
        "\n",
        "valid_generator=datagen.flow_from_directory(\n",
        "                    directory=\"/content/chest-ctscan-images/Data/train\",\n",
        "                    subset=\"validation\",\n",
        "                    color_mode='rgb',\n",
        "                    class_mode='categorical',\n",
        "                    batch_size=32,\n",
        "                    shuffle=True,\n",
        "                    seed=0,\n",
        "                    target_size=(240,240)\n",
        "              )"
      ]
    },
    {
      "cell_type": "code",
      "execution_count": 10,
      "metadata": {
        "id": "SXfo0tKOwb9j"
      },
      "outputs": [],
      "source": [
        "batch_size = 16\n",
        "num_classes = 4"
      ]
    },
    {
      "cell_type": "code",
      "execution_count": 11,
      "metadata": {
        "id": "M_VX1Dw7vK0Z"
      },
      "outputs": [],
      "source": [
        "def create_resnet_model():\n",
        "    pretrained_model = tf.keras.applications.ResNet50V2(include_top=False , weights='imagenet')\n",
        "    pretrained_model.trainable = True\n",
        "    model = tf.keras.Sequential([\n",
        "        pretrained_model,\n",
        "        tf.keras.layers.GlobalAveragePooling2D(),\n",
        "        tf.keras.layers.Dense(64, activation = 'relu'),\n",
        "        tf.keras.layers.Dense(num_classes, activation = 'softmax')\n",
        "    ])\n",
        "    model.compile(optimizer = 'adam', loss = 'categorical_crossentropy', metrics = ['accuracy',tf.keras.metrics.Precision(), tf.keras.metrics.Recall()])\n",
        "    return model"
      ]
    },
    {
      "cell_type": "code",
      "execution_count": 12,
      "metadata": {
        "id": "Bw0x8MB3xTUQ"
      },
      "outputs": [],
      "source": [
        "from tensorflow.keras.callbacks import LearningRateScheduler, ModelCheckpoint"
      ]
    },
    {
      "cell_type": "code",
      "execution_count": 13,
      "metadata": {
        "id": "uHOoSD-8xZjf"
      },
      "outputs": [],
      "source": [
        "LR_START = 1.0e-5\n",
        "LR_MAX = 2.5e-5 \n",
        "LR_MIN = LR_START\n",
        "LR_RAMPUP_EPOCHS = 1\n",
        "LR_SUSTAIN_EPOCHS = 0 # 3\n",
        "LR_EXP_DECAY = 0.80\n",
        "\n",
        "def lrfn(epoch):\n",
        "    if epoch < LR_RAMPUP_EPOCHS:\n",
        "        lr = LR_START + (epoch * (LR_MAX - LR_START) / LR_RAMPUP_EPOCHS)\n",
        "    elif epoch < (LR_RAMPUP_EPOCHS + LR_SUSTAIN_EPOCHS):\n",
        "        lr = LR_MAX\n",
        "    else:\n",
        "        lr = LR_MIN + (LR_MAX - LR_MIN) * LR_EXP_DECAY ** (epoch - LR_RAMPUP_EPOCHS - LR_SUSTAIN_EPOCHS)\n",
        "#    print('For epoch', epoch, 'setting lr to', lr)\n",
        "    return lr\n",
        "\n",
        "    \n",
        "lr_callback = tf.keras.callbacks.LearningRateScheduler(lrfn, verbose = True)\n",
        "\n",
        "checkpoint = ModelCheckpoint(filepath='best_weights.hdf5',\n",
        "                             save_weights_only=True,\n",
        "                             monitor='val_accuracy',\n",
        "                             mode='max',\n",
        "                             save_best_only=True)"
      ]
    },
    {
      "cell_type": "code",
      "execution_count": 14,
      "metadata": {
        "id": "4HcLWeXnxeSL"
      },
      "outputs": [],
      "source": [
        "model_res = create_resnet_model()"
      ]
    },
    {
      "cell_type": "code",
      "execution_count": 17,
      "metadata": {
        "colab": {
          "base_uri": "https://localhost:8080/"
        },
        "id": "YcxzACdUxrYk",
        "outputId": "38bf2aa4-0dd4-4496-b01c-6075ec32dd37"
      },
      "outputs": [
        {
          "output_type": "stream",
          "name": "stdout",
          "text": [
            "\n",
            "Epoch 1: LearningRateScheduler setting learning rate to 1e-05.\n",
            "Epoch 1/20\n",
            "16/16 [==============================] - 13s 775ms/step - loss: 1.1355 - accuracy: 0.5245 - precision: 0.8182 - recall: 0.1102 - val_loss: 1.3918 - val_accuracy: 0.3438 - val_precision: 0.0000e+00 - val_recall: 0.0000e+00 - lr: 1.0000e-05\n",
            "\n",
            "Epoch 2: LearningRateScheduler setting learning rate to 2.5e-05.\n",
            "Epoch 2/20\n",
            "16/16 [==============================] - 12s 696ms/step - loss: 0.8474 - accuracy: 0.7224 - precision: 0.9492 - recall: 0.3816 - val_loss: 1.2599 - val_accuracy: 0.3125 - val_precision: 0.3462 - val_recall: 0.1406 - lr: 2.5000e-05\n",
            "\n",
            "Epoch 3: LearningRateScheduler setting learning rate to 2.2e-05.\n",
            "Epoch 3/20\n",
            "16/16 [==============================] - 12s 725ms/step - loss: 0.6365 - accuracy: 0.8122 - precision: 0.9219 - recall: 0.6020 - val_loss: 1.1157 - val_accuracy: 0.4531 - val_precision: 0.4667 - val_recall: 0.2188 - lr: 2.2000e-05\n",
            "\n",
            "Epoch 4: LearningRateScheduler setting learning rate to 1.9600000000000002e-05.\n",
            "Epoch 4/20\n",
            "16/16 [==============================] - 12s 720ms/step - loss: 0.5053 - accuracy: 0.8755 - precision: 0.9387 - recall: 0.7184 - val_loss: 1.0444 - val_accuracy: 0.4375 - val_precision: 0.5484 - val_recall: 0.2656 - lr: 1.9600e-05\n",
            "\n",
            "Epoch 5: LearningRateScheduler setting learning rate to 1.7680000000000004e-05.\n",
            "Epoch 5/20\n",
            "16/16 [==============================] - 12s 760ms/step - loss: 0.3800 - accuracy: 0.9375 - precision: 0.9776 - recall: 0.8516 - val_loss: 0.9601 - val_accuracy: 0.5000 - val_precision: 0.7000 - val_recall: 0.3281 - lr: 1.7680e-05\n",
            "\n",
            "Epoch 6: LearningRateScheduler setting learning rate to 1.6144000000000003e-05.\n",
            "Epoch 6/20\n",
            "16/16 [==============================] - 12s 753ms/step - loss: 0.3278 - accuracy: 0.9429 - precision: 0.9596 - recall: 0.8735 - val_loss: 0.9536 - val_accuracy: 0.5469 - val_precision: 0.5946 - val_recall: 0.3438 - lr: 1.6144e-05\n",
            "\n",
            "Epoch 7: LearningRateScheduler setting learning rate to 1.4915200000000002e-05.\n",
            "Epoch 7/20\n",
            "16/16 [==============================] - 12s 713ms/step - loss: 0.2529 - accuracy: 0.9714 - precision: 0.9806 - recall: 0.9286 - val_loss: 0.9727 - val_accuracy: 0.5469 - val_precision: 0.6000 - val_recall: 0.3281 - lr: 1.4915e-05\n",
            "\n",
            "Epoch 8: LearningRateScheduler setting learning rate to 1.3932160000000002e-05.\n",
            "Epoch 8/20\n",
            "16/16 [==============================] - 12s 732ms/step - loss: 0.2169 - accuracy: 0.9653 - precision: 0.9872 - recall: 0.9469 - val_loss: 0.7899 - val_accuracy: 0.6562 - val_precision: 0.7073 - val_recall: 0.4531 - lr: 1.3932e-05\n",
            "\n",
            "Epoch 9: LearningRateScheduler setting learning rate to 1.3145728000000002e-05.\n",
            "Epoch 9/20\n",
            "16/16 [==============================] - 11s 739ms/step - loss: 0.1913 - accuracy: 0.9714 - precision: 0.9895 - recall: 0.9633 - val_loss: 0.9226 - val_accuracy: 0.5000 - val_precision: 0.6000 - val_recall: 0.3750 - lr: 1.3146e-05\n",
            "\n",
            "Epoch 10: LearningRateScheduler setting learning rate to 1.2516582400000002e-05.\n",
            "Epoch 10/20\n",
            "16/16 [==============================] - 11s 708ms/step - loss: 0.1600 - accuracy: 0.9776 - precision: 0.9876 - recall: 0.9714 - val_loss: 0.9241 - val_accuracy: 0.5781 - val_precision: 0.6250 - val_recall: 0.4688 - lr: 1.2517e-05\n",
            "\n",
            "Epoch 11: LearningRateScheduler setting learning rate to 1.2013265920000002e-05.\n",
            "Epoch 11/20\n",
            "16/16 [==============================] - 12s 711ms/step - loss: 0.1400 - accuracy: 0.9796 - precision: 0.9896 - recall: 0.9673 - val_loss: 0.8286 - val_accuracy: 0.6250 - val_precision: 0.7857 - val_recall: 0.5156 - lr: 1.2013e-05\n",
            "\n",
            "Epoch 12: LearningRateScheduler setting learning rate to 1.1610612736000002e-05.\n",
            "Epoch 12/20\n",
            "16/16 [==============================] - 12s 738ms/step - loss: 0.1198 - accuracy: 0.9939 - precision: 1.0000 - recall: 0.9816 - val_loss: 0.6595 - val_accuracy: 0.7812 - val_precision: 0.8913 - val_recall: 0.6406 - lr: 1.1611e-05\n",
            "\n",
            "Epoch 13: LearningRateScheduler setting learning rate to 1.1288490188800001e-05.\n",
            "Epoch 13/20\n",
            "16/16 [==============================] - 11s 706ms/step - loss: 0.0939 - accuracy: 0.9959 - precision: 0.9979 - recall: 0.9878 - val_loss: 0.6943 - val_accuracy: 0.7656 - val_precision: 0.7692 - val_recall: 0.6250 - lr: 1.1288e-05\n",
            "\n",
            "Epoch 14: LearningRateScheduler setting learning rate to 1.1030792151040002e-05.\n",
            "Epoch 14/20\n",
            "16/16 [==============================] - 12s 729ms/step - loss: 0.0927 - accuracy: 0.9959 - precision: 0.9959 - recall: 0.9878 - val_loss: 0.6562 - val_accuracy: 0.7344 - val_precision: 0.8605 - val_recall: 0.5781 - lr: 1.1031e-05\n",
            "\n",
            "Epoch 15: LearningRateScheduler setting learning rate to 1.0824633720832e-05.\n",
            "Epoch 15/20\n",
            "16/16 [==============================] - 12s 735ms/step - loss: 0.0855 - accuracy: 0.9939 - precision: 0.9939 - recall: 0.9918 - val_loss: 0.6575 - val_accuracy: 0.7344 - val_precision: 0.7451 - val_recall: 0.5938 - lr: 1.0825e-05\n",
            "\n",
            "Epoch 16: LearningRateScheduler setting learning rate to 1.06597069766656e-05.\n",
            "Epoch 16/20\n",
            "16/16 [==============================] - 11s 712ms/step - loss: 0.0763 - accuracy: 0.9898 - precision: 0.9938 - recall: 0.9878 - val_loss: 0.6218 - val_accuracy: 0.7500 - val_precision: 0.7931 - val_recall: 0.7188 - lr: 1.0660e-05\n",
            "\n",
            "Epoch 17: LearningRateScheduler setting learning rate to 1.0527765581332481e-05.\n",
            "Epoch 17/20\n",
            "16/16 [==============================] - 12s 757ms/step - loss: 0.0618 - accuracy: 0.9980 - precision: 0.9980 - recall: 0.9980 - val_loss: 0.5965 - val_accuracy: 0.7969 - val_precision: 0.8269 - val_recall: 0.6719 - lr: 1.0528e-05\n",
            "\n",
            "Epoch 18: LearningRateScheduler setting learning rate to 1.0422212465065985e-05.\n",
            "Epoch 18/20\n",
            "16/16 [==============================] - 11s 742ms/step - loss: 0.0666 - accuracy: 0.9959 - precision: 0.9980 - recall: 0.9939 - val_loss: 0.5282 - val_accuracy: 0.7969 - val_precision: 0.8679 - val_recall: 0.7188 - lr: 1.0422e-05\n",
            "\n",
            "Epoch 19: LearningRateScheduler setting learning rate to 1.0337769972052789e-05.\n",
            "Epoch 19/20\n",
            "16/16 [==============================] - 11s 709ms/step - loss: 0.0574 - accuracy: 0.9939 - precision: 0.9959 - recall: 0.9939 - val_loss: 0.5519 - val_accuracy: 0.7344 - val_precision: 0.8036 - val_recall: 0.7031 - lr: 1.0338e-05\n",
            "\n",
            "Epoch 20: LearningRateScheduler setting learning rate to 1.027021597764223e-05.\n",
            "Epoch 20/20\n",
            "16/16 [==============================] - 12s 728ms/step - loss: 0.0444 - accuracy: 0.9980 - precision: 0.9980 - recall: 0.9980 - val_loss: 0.4995 - val_accuracy: 0.8281 - val_precision: 0.8519 - val_recall: 0.7188 - lr: 1.0270e-05\n"
          ]
        }
      ],
      "source": [
        "STEP_SIZE_TRAIN=train_generator.n//train_generator.batch_size\n",
        "STEP_SIZE_VALID=valid_generator.n//valid_generator.batch_size\n",
        "#STEP_SIZE_TEST=test_generator.n//test_generator.batch_size\n",
        "hist_incep = model_res.fit(train_generator,\n",
        "                    steps_per_epoch=STEP_SIZE_TRAIN,\n",
        "                    validation_data=valid_generator,\n",
        "                    validation_steps=STEP_SIZE_VALID,\n",
        "                    epochs=20,\n",
        "                    callbacks = [lr_callback, checkpoint]\n",
        ")"
      ]
    },
    {
      "cell_type": "markdown",
      "source": [
        "# Test Pipeline"
      ],
      "metadata": {
        "id": "AAk4qISBMc3c"
      }
    },
    {
      "cell_type": "code",
      "source": [
        "test_datagen=ImageDataGenerator(\n",
        "                           rescale=1./255.\n",
        "                        )\n",
        "\n",
        "test_generator=test_datagen.flow_from_directory(\n",
        "                    directory=\"/content/chest-ctscan-images/Data/test\",\n",
        "                    color_mode='rgb',\n",
        "                    class_mode= None,\n",
        "                    batch_size=1,\n",
        "                    shuffle=False,\n",
        "                    target_size=(240,240)\n",
        "                  )\n",
        "\n",
        "\n",
        "#predicted_class_indices=np.argmax(pred_incep_ress,axis=1)"
      ],
      "metadata": {
        "colab": {
          "base_uri": "https://localhost:8080/"
        },
        "id": "QDNlk5UZYpIr",
        "outputId": "a82c908c-b252-416c-cc1b-913e30a0ba6a"
      },
      "execution_count": 14,
      "outputs": [
        {
          "output_type": "stream",
          "name": "stdout",
          "text": [
            "Found 315 images belonging to 4 classes.\n"
          ]
        }
      ]
    },
    {
      "cell_type": "code",
      "source": [
        "import matplotlib.pyplot as plt\n",
        "\n",
        "# generate samples and plot\n",
        "fig, ax = plt.subplots(nrows=1, ncols=2)\n",
        "x = test_generator.next()\n",
        "\n",
        "# generate batch of images\n",
        "for i in range(1):\n",
        "    image = x[i] \n",
        "    # plot image\n",
        "    ax[i].imshow(image)\n",
        "    ax[i].axis('off')"
      ],
      "metadata": {
        "colab": {
          "base_uri": "https://localhost:8080/",
          "height": 435
        },
        "id": "nW4pfOBHdEP4",
        "outputId": "b8d4098d-b591-47b8-e7ef-37f6ec0ccd22"
      },
      "execution_count": 26,
      "outputs": [
        {
          "output_type": "display_data",
          "data": {
            "text/plain": [
              "<Figure size 640x480 with 2 Axes>"
            ],
            "image/png": "[encoded data removed]"
          },
          "metadata": {}
        }
      ]
    },
    {
      "cell_type": "code",
      "source": [
        "test_generator.reset()"
      ],
      "metadata": {
        "id": "nm-F9WLqaCxV"
      },
      "execution_count": 16,
      "outputs": []
    },
    {
      "cell_type": "code",
      "source": [
        "pred_incep_ress=model_res.predict(test_generator,\n",
        "verbose=1)"
      ],
      "metadata": {
        "colab": {
          "base_uri": "https://localhost:8080/"
        },
        "id": "LtWvAEMBZMtn",
        "outputId": "8af75b59-8ba3-4c2a-ddd5-ca8b37654795"
      },
      "execution_count": 17,
      "outputs": [
        {
          "output_type": "stream",
          "name": "stdout",
          "text": [
            "315/315 [==============================] - 5s 10ms/step\n"
          ]
        }
      ]
    },
    {
      "cell_type": "code",
      "source": [
        "predicted_class_indices=np.argmax(pred_incep_ress,axis=1)"
      ],
      "metadata": {
        "id": "6hpqWK6MkOZg"
      },
      "execution_count": 18,
      "outputs": []
    },
    {
      "cell_type": "code",
      "source": [
        "predicted_class_indices"
      ],
      "metadata": {
        "id": "-6PZ8_ZekcwE",
        "outputId": "5465843d-290f-48d1-c2bc-4e8192eca361",
        "colab": {
          "base_uri": "https://localhost:8080/"
        }
      },
      "execution_count": 19,
      "outputs": [
        {
          "output_type": "execute_result",
          "data": {
            "text/plain": [
              "array([0, 3, 3, 3, 0, 3, 0, 0, 3, 0, 3, 3, 3, 0, 3, 1, 1, 0, 0, 0, 1, 3,\n",
              "       3, 3, 1, 3, 3, 0, 3, 3, 3, 3, 3, 3, 0, 1, 3, 3, 0, 3, 0, 0, 0, 3,\n",
              "       0, 3, 3, 3, 0, 3, 0, 0, 3, 0, 3, 3, 1, 1, 0, 3, 2, 3, 0, 3, 0, 3,\n",
              "       0, 3, 1, 0, 3, 3, 3, 1, 3, 3, 3, 3, 3, 3, 3, 0, 3, 3, 3, 3, 3, 0,\n",
              "       1, 0, 1, 3, 0, 1, 3, 1, 0, 3, 0, 3, 3, 3, 0, 3, 1, 0, 0, 0, 3, 0,\n",
              "       3, 0, 0, 0, 3, 3, 0, 3, 3, 3, 3, 3, 3, 1, 1, 1, 3, 1, 3, 1, 0, 3,\n",
              "       3, 3, 1, 1, 3, 0, 3, 3, 0, 1, 1, 0, 1, 1, 3, 0, 3, 3, 1, 1, 1, 1,\n",
              "       1, 1, 3, 3, 3, 0, 3, 3, 3, 1, 3, 3, 3, 3, 1, 1, 0, 2, 2, 2, 2, 2,\n",
              "       2, 2, 2, 2, 2, 2, 2, 2, 2, 2, 2, 2, 2, 2, 2, 2, 2, 2, 2, 3, 2, 2,\n",
              "       2, 2, 2, 2, 2, 2, 2, 2, 2, 2, 2, 2, 2, 2, 2, 2, 2, 2, 2, 2, 2, 2,\n",
              "       2, 2, 2, 2, 2, 3, 3, 3, 3, 3, 3, 3, 3, 3, 3, 3, 1, 3, 3, 3, 3, 3,\n",
              "       3, 3, 3, 3, 3, 3, 3, 3, 3, 3, 3, 3, 3, 3, 3, 3, 3, 3, 3, 3, 0, 3,\n",
              "       3, 3, 3, 3, 3, 3, 3, 3, 3, 3, 3, 0, 3, 3, 3, 3, 3, 3, 3, 3, 3, 3,\n",
              "       3, 3, 3, 3, 3, 3, 3, 3, 3, 3, 3, 3, 3, 3, 3, 3, 3, 3, 3, 3, 3, 3,\n",
              "       1, 3, 3, 1, 3, 3, 3])"
            ]
          },
          "metadata": {},
          "execution_count": 19
        }
      ]
    },
    {
      "cell_type": "code",
      "execution_count": null,
      "metadata": {
        "id": "ZvAPQXZ4xy69"
      },
      "outputs": [],
      "source": []
    }
  ],
  "metadata": {
    "accelerator": "GPU",
    "colab": {
      "provenance": [],
      "authorship_tag": "ABX9TyNggdwBL+1tgEGCOI6uI8Lv",
      "include_colab_link": true
    },
    "gpuClass": "standard",
    "kernelspec": {
      "display_name": "Python 3",
      "name": "python3"
    },
    "language_info": {
      "name": "python"
    }
  },
  "nbformat": 4,
  "nbformat_minor": 0
}